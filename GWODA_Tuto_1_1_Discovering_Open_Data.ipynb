{
  "nbformat": 4,
  "nbformat_minor": 0,
  "metadata": {
    "colab": {
      "name": "Copy of Tuto 1.1 Discovering Open Data.ipynb",
      "provenance": [],
      "include_colab_link": true
    },
    "kernelspec": {
      "display_name": "igwn-py37",
      "language": "python",
      "name": "igwn-py37"
    },
    "language_info": {
      "codemirror_mode": {
        "name": "ipython",
        "version": 3
      },
      "file_extension": ".py",
      "mimetype": "text/x-python",
      "name": "python",
      "nbconvert_exporter": "python",
      "pygments_lexer": "ipython3",
      "version": "3.7.3"
    }
  },
  "cells": [
    {
      "cell_type": "markdown",
      "metadata": {
        "id": "view-in-github",
        "colab_type": "text"
      },
      "source": [
        "<a href=\"https://colab.research.google.com/github/yashas27/GWO_DW/blob/master/GWODA_Tuto_1_1_Discovering_Open_Data.ipynb\" target=\"_parent\"><img src=\"https://colab.research.google.com/assets/colab-badge.svg\" alt=\"Open In Colab\"/></a>"
      ]
    },
    {
      "cell_type": "markdown",
      "metadata": {
        "Collapsed": "false",
        "colab_type": "text",
        "id": "R_adEak0Q8NT"
      },
      "source": [
        "<img style=\"float: left;padding: 1.3em\" src=\"https://indico.in2p3.fr/event/18313/logo-786578160.png\">  \n",
        "\n",
        "#  Gravitational Wave Open Data Workshop #2\n",
        "\n",
        "\n",
        "#### Tutorial 1.1: Discovering open data from GW observatories\n",
        "\n",
        "This notebook describes how to discover what data are available from the [Gravitational-Wave Open Science Center (GWOSC)](https://www.gw-openscience.org).\n",
        "    \n",
        "[Click this link to view this tutorial in Google Colaboratory](https://colab.research.google.com/github/gw-odw/odw-2019/blob/master/Day_1/Tuto 1.1 Discovering Open Data.ipynb)"
      ]
    },
    {
      "cell_type": "markdown",
      "metadata": {
        "Collapsed": "false",
        "colab_type": "text",
        "id": "W6msjCJVQ8NV"
      },
      "source": [
        "## Software installation  (execute only if running on a cloud platform or haven't done the installation yet!)\n",
        "\n",
        "First, we need to install the software, which we do so using the `requirements.txt` file provided for this workshop:"
      ]
    },
    {
      "cell_type": "code",
      "metadata": {
        "Collapsed": "false",
        "colab_type": "code",
        "id": "DXoxopwkQ8NY",
        "outputId": "98447850-f023-46f4-df44-dcad01bbd2e6",
        "colab": {
          "base_uri": "https://localhost:8080/",
          "height": 104
        }
      },
      "source": [
        "# -- Uncomment following line if running in Google Colab\n",
        "#! pip install -q 'gwpy==1.0.1'"
      ],
      "execution_count": 0,
      "outputs": [
        {
          "output_type": "stream",
          "text": [
            "\u001b[K     |████████████████████████████████| 1.4MB 2.8MB/s \n",
            "\u001b[K     |████████████████████████████████| 51kB 5.5MB/s \n",
            "\u001b[K     |████████████████████████████████| 61kB 7.5MB/s \n",
            "\u001b[K     |████████████████████████████████| 2.7MB 32.5MB/s \n",
            "\u001b[?25h  Building wheel for ligo-segments (setup.py) ... \u001b[?25l\u001b[?25hdone\n"
          ],
          "name": "stdout"
        }
      ]
    },
    {
      "cell_type": "markdown",
      "metadata": {
        "Collapsed": "false",
        "colab_type": "text",
        "id": "mQ8Jjb0PQ8Ni"
      },
      "source": [
        "**Important:** With Google Colab, you may need to restart the runtime after running the cell above."
      ]
    },
    {
      "cell_type": "markdown",
      "metadata": {
        "Collapsed": "false",
        "colab_type": "text",
        "id": "F3tmmQ-hQ8Nu"
      },
      "source": [
        "## Querying for event information\n",
        "\n",
        "The gwosc.datasets module provides tools to search for datasets, including filtering on GPS times.\n",
        "\n",
        "For example, we can search for what event datasets are available:"
      ]
    },
    {
      "cell_type": "code",
      "metadata": {
        "Collapsed": "false",
        "colab_type": "code",
        "id": "-BkUqpvkQ8Nv",
        "outputId": "da2d389b-9ebc-4824-dfac-f3bf8b56161f",
        "colab": {
          "base_uri": "https://localhost:8080/",
          "height": 55
        }
      },
      "source": [
        "from gwosc.datasets import find_datasets\n",
        "events = find_datasets(type=\"event\")\n",
        "print(events)"
      ],
      "execution_count": 0,
      "outputs": [
        {
          "output_type": "stream",
          "text": [
            "['GRB051103', 'GW150914', 'GW150914_R1', 'GW151012_R1', 'GW151226', 'GW151226_R1', 'GW170104', 'GW170104_R1', 'GW170608', 'GW170608_R1', 'GW170729_R1', 'GW170809_R1', 'GW170814', 'GW170814_R1', 'GW170817', 'GW170817_R1', 'GW170818_R1', 'GW170823_R1', 'LVT151012', 'MC151008_R1', 'MC151012A_R1', 'MC151116_R1', 'MC161202_R1', 'MC161217_R1', 'MC170208_R1', 'MC170219_R1', 'MC170405_R1', 'MC170412_R1', 'MC170423_R1', 'MC170616_R1', 'MC170630_R1', 'MC170705_R1', 'MC170720_R1', 'O1_O2_Preliminary_GW150914_R1', 'O1_O2_Preliminary_GW170608_R1', 'O1_O2_Preliminary_GW170814_R1', 'O1_O2_Preliminary_GW170817_R1', 'O1_O2_Preliminary_LVT151012_R1', 'O3_Discovery_Papers_GW190412_R1', 'O3_Discovery_Papers_GW190412_R2', 'O3_Discovery_Papers_GW190425_R1', 'blind_injection']\n"
          ],
          "name": "stdout"
        }
      ]
    },
    {
      "cell_type": "markdown",
      "metadata": {
        "Collapsed": "false",
        "colab_type": "text",
        "id": "hU1ORf0iQ8Nz"
      },
      "source": [
        "As of O2, there are 25 event datasets available; 11 of those are confident detections (with the `'GW'` prefix), the other are _marginal_ detections. For more details, see [GWTC-1](https://www.gw-openscience.org/GWTC-1/). \n",
        "\n",
        "`find_datasets` also accepts a `detector` keyword to return only those datasets that include data for that detector:"
      ]
    },
    {
      "cell_type": "code",
      "metadata": {
        "Collapsed": "false",
        "colab_type": "code",
        "id": "Hjc54bsuQ8N0",
        "outputId": "c2f4c52d-76f9-40dc-e759-52b3d4024534",
        "colab": {
          "base_uri": "https://localhost:8080/",
          "height": 72
        }
      },
      "source": [
        "print(find_datasets(type=\"event\", detector=\"V1\"))\n",
        "print(find_datasets(type=\"event\", detector=\"G1\"))"
      ],
      "execution_count": 0,
      "outputs": [
        {
          "output_type": "stream",
          "text": [
            "['GW170729_R1', 'GW170809_R1', 'GW170814', 'GW170814_R1', 'GW170817', 'GW170817_R1', 'GW170818_R1', 'O1_O2_Preliminary_GW170814_R1', 'O1_O2_Preliminary_GW170817_R1', 'O3_Discovery_Papers_GW190412_R1', 'O3_Discovery_Papers_GW190412_R2', 'O3_Discovery_Papers_GW190425_R1']\n",
            "['GW170817', 'GW170817_R1']\n"
          ],
          "name": "stdout"
        }
      ]
    },
    {
      "cell_type": "markdown",
      "metadata": {
        "Collapsed": "false",
        "colab_type": "text",
        "id": "D9_tRXpMQ8N8"
      },
      "source": [
        "`find_datasets` also accepts a `segment` keyword to narrow results based on GPS time:"
      ]
    },
    {
      "cell_type": "code",
      "metadata": {
        "Collapsed": "false",
        "colab_type": "code",
        "id": "XZTniqwHQ8N-",
        "outputId": "021d90c2-0417-4de4-95e1-67678a30fd54",
        "colab": {
          "base_uri": "https://localhost:8080/",
          "height": 55
        }
      },
      "source": [
        "print(find_datasets(type=\"event\", detector=\"L1\", segment=(1164556817, 1187733618)))"
      ],
      "execution_count": 0,
      "outputs": [
        {
          "output_type": "stream",
          "text": [
            "['GW170104', 'GW170104_R1', 'GW170608', 'GW170608_R1', 'GW170729_R1', 'GW170809_R1', 'GW170814', 'GW170814_R1', 'GW170817', 'GW170817_R1', 'GW170818_R1', 'GW170823_R1', 'MC161202_R1', 'MC161217_R1', 'MC170208_R1', 'MC170219_R1', 'MC170405_R1', 'MC170412_R1', 'MC170423_R1', 'MC170616_R1', 'MC170630_R1', 'MC170705_R1', 'MC170720_R1', 'O1_O2_Preliminary_GW170608_R1', 'O1_O2_Preliminary_GW170814_R1', 'O1_O2_Preliminary_GW170817_R1']\n"
          ],
          "name": "stdout"
        }
      ]
    },
    {
      "cell_type": "markdown",
      "metadata": {
        "Collapsed": "false",
        "colab_type": "text",
        "id": "7pnAItOJQ8OC"
      },
      "source": [
        "Using `gwosc.datasets.event_gps`, we can query for the GPS time of a specific event:"
      ]
    },
    {
      "cell_type": "code",
      "metadata": {
        "Collapsed": "false",
        "colab_type": "code",
        "id": "tdr8c15_Q8OD",
        "outputId": "14283197-a2be-49bf-f579-3f69a7ccf3ee",
        "colab": {
          "base_uri": "https://localhost:8080/",
          "height": 35
        }
      },
      "source": [
        "from gwosc.datasets import event_gps\n",
        "gps = event_gps('GW170817')\n",
        "print(gps)"
      ],
      "execution_count": 0,
      "outputs": [
        {
          "output_type": "stream",
          "text": [
            "1187008882.4\n"
          ],
          "name": "stdout"
        }
      ]
    },
    {
      "cell_type": "markdown",
      "metadata": {
        "Collapsed": "false",
        "colab_type": "text",
        "id": "hKvQhYAOQ8OG"
      },
      "source": [
        "<div class=\"alert alert-info\">All of these times are returned in the GPS time system, which counts the number of seconds that have elapsed since the start of the GPS epoch at midnight (00:00) on January 6th 1980. GWOSC provides a <a href=\"https://www.gw-openscience.org/gps/\">GPS time converter</a> you can use to translate into datetime, or you can use <a href=\"https://gwpy.github.io/docs/stable/time/\"><code>gwpy.time</code></a>.</div>"
      ]
    },
    {
      "cell_type": "markdown",
      "metadata": {
        "Collapsed": "false",
        "colab_type": "text",
        "id": "RXVyJsDDQ8OH"
      },
      "source": [
        "We can query for the GPS time interval for an observing run:"
      ]
    },
    {
      "cell_type": "code",
      "metadata": {
        "Collapsed": "false",
        "colab_type": "code",
        "id": "QYsQSPNJQ8OK",
        "outputId": "65076088-d534-47fe-9e9e-68e53070b1f3",
        "colab": {
          "base_uri": "https://localhost:8080/",
          "height": 35
        }
      },
      "source": [
        "from gwosc.datasets import run_segment\n",
        "print(run_segment('O1'))"
      ],
      "execution_count": 0,
      "outputs": [
        {
          "output_type": "stream",
          "text": [
            "(1126051217, 1137254417)\n"
          ],
          "name": "stdout"
        }
      ]
    },
    {
      "cell_type": "markdown",
      "metadata": {
        "Collapsed": "false",
        "colab_type": "text",
        "id": "ACFu7w4_Q8OO"
      },
      "source": [
        "## Querying for data files\n",
        "\n",
        "The `gwosc.locate` module provides a function to find the URLs of data files associated with a given dataset.\n",
        "\n",
        "For event datasets, one can get the list of URLs using only the event name:"
      ]
    },
    {
      "cell_type": "code",
      "metadata": {
        "Collapsed": "false",
        "colab_type": "code",
        "id": "uMb1bsBNQ8OQ",
        "outputId": "e7e3fa4f-bb0d-4c98-f827-a119c14a140f",
        "colab": {
          "base_uri": "https://localhost:8080/",
          "height": 55
        }
      },
      "source": [
        "from gwosc.locate import get_event_urls\n",
        "urls = get_event_urls('GW150914')\n",
        "print(urls)"
      ],
      "execution_count": 0,
      "outputs": [
        {
          "output_type": "stream",
          "text": [
            "['https://www.gw-openscience.org/eventapi/json/GWTC-1-confident/GW150914/v3/H-H1_GWOSC_4KHZ_R1-1126259447-32.hdf5', 'https://www.gw-openscience.org/eventapi/json/GWTC-1-confident/GW150914/v3/H-H1_GWOSC_4KHZ_R1-1126257415-4096.hdf5', 'https://www.gw-openscience.org/eventapi/json/GWTC-1-confident/GW150914/v3/L-L1_GWOSC_4KHZ_R1-1126259447-32.hdf5', 'https://www.gw-openscience.org/eventapi/json/GWTC-1-confident/GW150914/v3/L-L1_GWOSC_4KHZ_R1-1126257415-4096.hdf5']\n"
          ],
          "name": "stdout"
        }
      ]
    },
    {
      "cell_type": "markdown",
      "metadata": {
        "Collapsed": "false",
        "colab_type": "text",
        "id": "19XV79-XQ8OV"
      },
      "source": [
        "By default, this function returns all of the files associated with a given event, which isn't particularly helpful. However, we can can filter on any of these by using keyword arguments, for example to get the URL for the 32-second file for the LIGO-Livingston detector:"
      ]
    },
    {
      "cell_type": "code",
      "metadata": {
        "Collapsed": "false",
        "colab_type": "code",
        "id": "H7MfuRbPQ8OW",
        "outputId": "9295f152-100f-4152-9c36-83aa8c9b42ba",
        "colab": {
          "base_uri": "https://localhost:8080/",
          "height": 35
        }
      },
      "source": [
        "urls = get_event_urls('GW150914', duration=32, detector='L1')\n",
        "print(urls)"
      ],
      "execution_count": 0,
      "outputs": [
        {
          "output_type": "stream",
          "text": [
            "['https://www.gw-openscience.org/eventapi/json/GWTC-1-confident/GW150914/v3/L-L1_GWOSC_4KHZ_R1-1126259447-32.hdf5']\n"
          ],
          "name": "stdout"
        }
      ]
    },
    {
      "cell_type": "markdown",
      "metadata": {
        "Collapsed": "false",
        "colab_type": "text",
        "id": "r_YLBpR0Q8Oe"
      },
      "source": [
        "# Exercises\n",
        "\n",
        "Now that you've seen examples of how to query for dataset information using the `gwosc` package, please try and complete the following exercies using that interface:\n",
        "\n",
        "- How many months did S6 last?\n",
        "- How many events were detected during O1?\n",
        "- What file URL contains data for V1 4096 seconds around GW170817?"
      ]
    },
    {
      "cell_type": "code",
      "metadata": {
        "id": "tPBPfGodBYey",
        "colab_type": "code",
        "outputId": "47fecbaf-2d62-427a-b092-f794efa8d119",
        "colab": {
          "base_uri": "https://localhost:8080/",
          "height": 35
        }
      },
      "source": [
        "from gwosc.datasets import run_segment\n",
        "S6t=(run_segment('S6'))\n",
        "s6d=(S6t[1]-S6t[0])\n",
        "montime= 86400*30\n",
        "s6m=s6d//montime\n",
        "s6q=s6d/montime\n",
        "s6r=s6q-s6m\n",
        "days=s6r*30\n",
        "print (\"Months= \",s6m,\" Days= \",days)\n"
      ],
      "execution_count": 0,
      "outputs": [
        {
          "output_type": "stream",
          "text": [
            "Months=  15  Days=  19.749999999999996\n"
          ],
          "name": "stdout"
        }
      ]
    },
    {
      "cell_type": "code",
      "metadata": {
        "id": "efUqaKDiBgU-",
        "colab_type": "code",
        "outputId": "dffe2301-7226-4a9f-eb11-219b7eeda8b9",
        "colab": {
          "base_uri": "https://localhost:8080/",
          "height": 35
        }
      },
      "source": [
        "from gwosc.datasets import find_datasets\n",
        "from gwosc.datasets import run_segment\n",
        "import numpy as np\n",
        "er=run_segment(\"O1\")\n",
        "er1=er[0]\n",
        "er2=er[1]\n",
        "ev1=find_datasets(type=\"event\",segment=(er1,er2))\n",
        "np.size(ev1)"
      ],
      "execution_count": 0,
      "outputs": [
        {
          "output_type": "execute_result",
          "data": {
            "text/plain": [
              "11"
            ]
          },
          "metadata": {
            "tags": []
          },
          "execution_count": 30
        }
      ]
    },
    {
      "cell_type": "code",
      "metadata": {
        "id": "LZ75ZVO39w_Y",
        "colab_type": "code",
        "outputId": "3226064f-1a78-4033-acf1-4ee6323ff694",
        "colab": {
          "base_uri": "https://localhost:8080/",
          "height": 35
        }
      },
      "source": [
        "from gwosc.locate import get_event_urls\n",
        "et=get_event_urls('GW170817',duration=4096,detector='V1')\n",
        "et"
      ],
      "execution_count": 0,
      "outputs": [
        {
          "output_type": "execute_result",
          "data": {
            "text/plain": [
              "['https://www.gw-openscience.org/eventapi/json/GWTC-1-confident/GW170817/v3/V-V1_GWOSC_4KHZ_R1-1187006835-4096.hdf5']"
            ]
          },
          "metadata": {
            "tags": []
          },
          "execution_count": 33
        }
      ]
    },
    {
      "cell_type": "code",
      "metadata": {
        "id": "40l2AAtMAZUI",
        "colab_type": "code",
        "colab": {}
      },
      "source": [
        ""
      ],
      "execution_count": 0,
      "outputs": []
    }
  ]
}